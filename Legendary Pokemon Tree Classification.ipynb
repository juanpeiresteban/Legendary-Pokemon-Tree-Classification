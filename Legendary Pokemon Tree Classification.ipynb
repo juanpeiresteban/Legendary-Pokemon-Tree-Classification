{
 "cells": [
  {
   "cell_type": "markdown",
   "metadata": {},
   "source": [
    "Coded by *Juan Peiró Esteban*, data consultant and Pokémon enthusiast.\n",
    "\n",
    "# Importing libraries and defining functions"
   ]
  },
  {
   "cell_type": "code",
   "execution_count": 1,
   "metadata": {},
   "outputs": [],
   "source": [
    "#General operative sistem aspects.\n",
    "import os\n",
    "#General manipulating data.\n",
    "import pandas as pd\n",
    "#Using regular expressions.\n",
    "import re\n",
    "#Setting a classification tree model.\n",
    "from sklearn.tree import DecisionTreeClassifier as DTC\n",
    "#Hyperparameter tunning.\n",
    "from sklearn.model_selection import GridSearchCV as GSCV\n",
    "#Displaying classification trees learned.\n",
    "from sklearn.tree import plot_tree\n",
    "#Obtaining confusion matrix.\n",
    "from sklearn.metrics import confusion_matrix\n",
    "#Displaying graphics.\n",
    "from matplotlib import pyplot as plt\n",
    "#Displaying heat maps.\n",
    "import seaborn as sns"
   ]
  },
  {
   "cell_type": "code",
   "execution_count": 2,
   "metadata": {},
   "outputs": [],
   "source": [
    "#Displaying heat map for provided confusion matrix.\n",
    "def plot_cm(cm, labels):\n",
    "    #To display figure on screen.\n",
    "    plt.figure()\n",
    "    #Defining figure.\n",
    "    ax = plt.subplot()\n",
    "    #Plotting heat map from provided confusion matrix.\n",
    "    sns.heatmap(cm, annot = True, ax = ax, fmt = 'g', cmap = 'Greens')\n",
    "    #Setting labels on axis for true and predicted labels.\n",
    "    ax.set_xlabel('Predicted labels')\n",
    "    ax.set_ylabel('True labels') \n",
    "    #Setting graphic title.\n",
    "    ax.set_title('Confusion Matrix')\n",
    "    #Setting labels on designed order.\n",
    "    ax.xaxis.set_ticklabels(labels) \n",
    "    ax.yaxis.set_ticklabels(labels)\n",
    "    #Showing on screen.\n",
    "    plt.show()"
   ]
  },
  {
   "cell_type": "markdown",
   "metadata": {},
   "source": [
    "# Data reading"
   ]
  },
  {
   "cell_type": "code",
   "execution_count": 3,
   "metadata": {},
   "outputs": [],
   "source": [
    "#Defining root folder.\n",
    "root = os.getcwd()\n",
    "#Reading Pokémon data from \"pokemon.csv\" file in root folder.\n",
    "pokemon_all_gen = pd.read_csv(root + \"/pokemon.csv\")"
   ]
  },
  {
   "cell_type": "code",
   "execution_count": 4,
   "metadata": {},
   "outputs": [
    {
     "data": {
      "text/html": [
       "<div>\n",
       "<style scoped>\n",
       "    .dataframe tbody tr th:only-of-type {\n",
       "        vertical-align: middle;\n",
       "    }\n",
       "\n",
       "    .dataframe tbody tr th {\n",
       "        vertical-align: top;\n",
       "    }\n",
       "\n",
       "    .dataframe thead th {\n",
       "        text-align: right;\n",
       "    }\n",
       "</style>\n",
       "<table border=\"1\" class=\"dataframe\">\n",
       "  <thead>\n",
       "    <tr style=\"text-align: right;\">\n",
       "      <th></th>\n",
       "      <th>#</th>\n",
       "      <th>Name</th>\n",
       "      <th>Type 1</th>\n",
       "      <th>Type 2</th>\n",
       "      <th>Total</th>\n",
       "      <th>HP</th>\n",
       "      <th>Attack</th>\n",
       "      <th>Defense</th>\n",
       "      <th>Sp. Atk</th>\n",
       "      <th>Sp. Def</th>\n",
       "      <th>Speed</th>\n",
       "      <th>Generation</th>\n",
       "      <th>Legendary</th>\n",
       "    </tr>\n",
       "  </thead>\n",
       "  <tbody>\n",
       "    <tr>\n",
       "      <th>0</th>\n",
       "      <td>1</td>\n",
       "      <td>Bulbasaur</td>\n",
       "      <td>Grass</td>\n",
       "      <td>Poison</td>\n",
       "      <td>318</td>\n",
       "      <td>45</td>\n",
       "      <td>49</td>\n",
       "      <td>49</td>\n",
       "      <td>65</td>\n",
       "      <td>65</td>\n",
       "      <td>45</td>\n",
       "      <td>1</td>\n",
       "      <td>False</td>\n",
       "    </tr>\n",
       "    <tr>\n",
       "      <th>1</th>\n",
       "      <td>2</td>\n",
       "      <td>Ivysaur</td>\n",
       "      <td>Grass</td>\n",
       "      <td>Poison</td>\n",
       "      <td>405</td>\n",
       "      <td>60</td>\n",
       "      <td>62</td>\n",
       "      <td>63</td>\n",
       "      <td>80</td>\n",
       "      <td>80</td>\n",
       "      <td>60</td>\n",
       "      <td>1</td>\n",
       "      <td>False</td>\n",
       "    </tr>\n",
       "    <tr>\n",
       "      <th>2</th>\n",
       "      <td>3</td>\n",
       "      <td>Venusaur</td>\n",
       "      <td>Grass</td>\n",
       "      <td>Poison</td>\n",
       "      <td>525</td>\n",
       "      <td>80</td>\n",
       "      <td>82</td>\n",
       "      <td>83</td>\n",
       "      <td>100</td>\n",
       "      <td>100</td>\n",
       "      <td>80</td>\n",
       "      <td>1</td>\n",
       "      <td>False</td>\n",
       "    </tr>\n",
       "    <tr>\n",
       "      <th>3</th>\n",
       "      <td>3</td>\n",
       "      <td>VenusaurMega Venusaur</td>\n",
       "      <td>Grass</td>\n",
       "      <td>Poison</td>\n",
       "      <td>625</td>\n",
       "      <td>80</td>\n",
       "      <td>100</td>\n",
       "      <td>123</td>\n",
       "      <td>122</td>\n",
       "      <td>120</td>\n",
       "      <td>80</td>\n",
       "      <td>1</td>\n",
       "      <td>False</td>\n",
       "    </tr>\n",
       "    <tr>\n",
       "      <th>4</th>\n",
       "      <td>4</td>\n",
       "      <td>Charmander</td>\n",
       "      <td>Fire</td>\n",
       "      <td>NaN</td>\n",
       "      <td>309</td>\n",
       "      <td>39</td>\n",
       "      <td>52</td>\n",
       "      <td>43</td>\n",
       "      <td>60</td>\n",
       "      <td>50</td>\n",
       "      <td>65</td>\n",
       "      <td>1</td>\n",
       "      <td>False</td>\n",
       "    </tr>\n",
       "  </tbody>\n",
       "</table>\n",
       "</div>"
      ],
      "text/plain": [
       "   #                   Name Type 1  Type 2  Total  HP  Attack  Defense  \\\n",
       "0  1              Bulbasaur  Grass  Poison    318  45      49       49   \n",
       "1  2                Ivysaur  Grass  Poison    405  60      62       63   \n",
       "2  3               Venusaur  Grass  Poison    525  80      82       83   \n",
       "3  3  VenusaurMega Venusaur  Grass  Poison    625  80     100      123   \n",
       "4  4             Charmander   Fire     NaN    309  39      52       43   \n",
       "\n",
       "   Sp. Atk  Sp. Def  Speed  Generation  Legendary  \n",
       "0       65       65     45           1      False  \n",
       "1       80       80     60           1      False  \n",
       "2      100      100     80           1      False  \n",
       "3      122      120     80           1      False  \n",
       "4       60       50     65           1      False  "
      ]
     },
     "execution_count": 4,
     "metadata": {},
     "output_type": "execute_result"
    }
   ],
   "source": [
    "#Displaying first entries in our database.\n",
    "pokemon_all_gen.head()"
   ]
  },
  {
   "cell_type": "markdown",
   "metadata": {},
   "source": [
    "# Variable featuring"
   ]
  },
  {
   "cell_type": "code",
   "execution_count": 5,
   "metadata": {},
   "outputs": [
    {
     "data": {
      "text/plain": [
       "['VenusaurMega Venusaur',\n",
       " 'CharizardMega Charizard X',\n",
       " 'CharizardMega Charizard Y',\n",
       " 'BlastoiseMega Blastoise',\n",
       " 'BeedrillMega Beedrill',\n",
       " 'PidgeotMega Pidgeot',\n",
       " 'AlakazamMega Alakazam',\n",
       " 'SlowbroMega Slowbro',\n",
       " 'GengarMega Gengar',\n",
       " 'KangaskhanMega Kangaskhan',\n",
       " 'PinsirMega Pinsir',\n",
       " 'GyaradosMega Gyarados',\n",
       " 'AerodactylMega Aerodactyl',\n",
       " 'MewtwoMega Mewtwo X',\n",
       " 'MewtwoMega Mewtwo Y',\n",
       " 'Meganium',\n",
       " 'AmpharosMega Ampharos',\n",
       " 'SteelixMega Steelix',\n",
       " 'ScizorMega Scizor',\n",
       " 'HeracrossMega Heracross',\n",
       " 'HoundoomMega Houndoom',\n",
       " 'TyranitarMega Tyranitar',\n",
       " 'SceptileMega Sceptile',\n",
       " 'BlazikenMega Blaziken',\n",
       " 'SwampertMega Swampert',\n",
       " 'GardevoirMega Gardevoir',\n",
       " 'SableyeMega Sableye',\n",
       " 'MawileMega Mawile',\n",
       " 'AggronMega Aggron',\n",
       " 'MedichamMega Medicham',\n",
       " 'ManectricMega Manectric',\n",
       " 'SharpedoMega Sharpedo',\n",
       " 'CameruptMega Camerupt',\n",
       " 'AltariaMega Altaria',\n",
       " 'BanetteMega Banette',\n",
       " 'AbsolMega Absol',\n",
       " 'GlalieMega Glalie',\n",
       " 'SalamenceMega Salamence',\n",
       " 'MetagrossMega Metagross',\n",
       " 'LatiasMega Latias',\n",
       " 'LatiosMega Latios',\n",
       " 'KyogrePrimal Kyogre',\n",
       " 'GroudonPrimal Groudon',\n",
       " 'RayquazaMega Rayquaza',\n",
       " 'LopunnyMega Lopunny',\n",
       " 'GarchompMega Garchomp',\n",
       " 'LucarioMega Lucario',\n",
       " 'AbomasnowMega Abomasnow',\n",
       " 'GalladeMega Gallade',\n",
       " 'AudinoMega Audino',\n",
       " 'DiancieMega Diancie']"
      ]
     },
     "execution_count": 5,
     "metadata": {},
     "output_type": "execute_result"
    }
   ],
   "source": [
    "#With a little knowledge on Pokémon universe we can note the absence of any flag to refer to Mega, Primal and Ultra forms.\n",
    "[name for name in pokemon_all_gen['Name'] if ('Mega' in name) | ('Primal' in name) | ('Ultra' in name)]"
   ]
  },
  {
   "cell_type": "code",
   "execution_count": 6,
   "metadata": {},
   "outputs": [],
   "source": [
    "#We have information from 1st generation to 6th, so we will only have Mega and Primal forms. Anyway, the code will be ready\n",
    "#to assign this special form flag to any Mega, Primal or Ultra forms. We will use regular expressions to find for \"Mega\",\n",
    "#\"Primal\" and \"Ultra\" among Pokémon names.\n",
    "pokemon_all_gen['Special Form'] = pokemon_all_gen['Name'].apply(lambda x: bool(re.search('(.)+(Mega|Primal|Ultra)(.)+', x)))\n",
    "#Meganium was the only exception found before, and this regular expression excludes the name for that Pokémon."
   ]
  },
  {
   "cell_type": "code",
   "execution_count": 7,
   "metadata": {},
   "outputs": [
    {
     "data": {
      "text/html": [
       "<div>\n",
       "<style scoped>\n",
       "    .dataframe tbody tr th:only-of-type {\n",
       "        vertical-align: middle;\n",
       "    }\n",
       "\n",
       "    .dataframe tbody tr th {\n",
       "        vertical-align: top;\n",
       "    }\n",
       "\n",
       "    .dataframe thead th {\n",
       "        text-align: right;\n",
       "    }\n",
       "</style>\n",
       "<table border=\"1\" class=\"dataframe\">\n",
       "  <thead>\n",
       "    <tr style=\"text-align: right;\">\n",
       "      <th></th>\n",
       "      <th>#</th>\n",
       "      <th>Name</th>\n",
       "      <th>Type 1</th>\n",
       "      <th>Type 2</th>\n",
       "      <th>Total</th>\n",
       "      <th>HP</th>\n",
       "      <th>Attack</th>\n",
       "      <th>Defense</th>\n",
       "      <th>Sp. Atk</th>\n",
       "      <th>Sp. Def</th>\n",
       "      <th>Speed</th>\n",
       "      <th>Generation</th>\n",
       "      <th>Legendary</th>\n",
       "      <th>Special Form</th>\n",
       "    </tr>\n",
       "  </thead>\n",
       "  <tbody>\n",
       "    <tr>\n",
       "      <th>0</th>\n",
       "      <td>1</td>\n",
       "      <td>Bulbasaur</td>\n",
       "      <td>Grass</td>\n",
       "      <td>Poison</td>\n",
       "      <td>318</td>\n",
       "      <td>45</td>\n",
       "      <td>49</td>\n",
       "      <td>49</td>\n",
       "      <td>65</td>\n",
       "      <td>65</td>\n",
       "      <td>45</td>\n",
       "      <td>1</td>\n",
       "      <td>False</td>\n",
       "      <td>False</td>\n",
       "    </tr>\n",
       "    <tr>\n",
       "      <th>1</th>\n",
       "      <td>2</td>\n",
       "      <td>Ivysaur</td>\n",
       "      <td>Grass</td>\n",
       "      <td>Poison</td>\n",
       "      <td>405</td>\n",
       "      <td>60</td>\n",
       "      <td>62</td>\n",
       "      <td>63</td>\n",
       "      <td>80</td>\n",
       "      <td>80</td>\n",
       "      <td>60</td>\n",
       "      <td>1</td>\n",
       "      <td>False</td>\n",
       "      <td>False</td>\n",
       "    </tr>\n",
       "    <tr>\n",
       "      <th>2</th>\n",
       "      <td>3</td>\n",
       "      <td>Venusaur</td>\n",
       "      <td>Grass</td>\n",
       "      <td>Poison</td>\n",
       "      <td>525</td>\n",
       "      <td>80</td>\n",
       "      <td>82</td>\n",
       "      <td>83</td>\n",
       "      <td>100</td>\n",
       "      <td>100</td>\n",
       "      <td>80</td>\n",
       "      <td>1</td>\n",
       "      <td>False</td>\n",
       "      <td>False</td>\n",
       "    </tr>\n",
       "    <tr>\n",
       "      <th>3</th>\n",
       "      <td>3</td>\n",
       "      <td>VenusaurMega Venusaur</td>\n",
       "      <td>Grass</td>\n",
       "      <td>Poison</td>\n",
       "      <td>625</td>\n",
       "      <td>80</td>\n",
       "      <td>100</td>\n",
       "      <td>123</td>\n",
       "      <td>122</td>\n",
       "      <td>120</td>\n",
       "      <td>80</td>\n",
       "      <td>1</td>\n",
       "      <td>False</td>\n",
       "      <td>True</td>\n",
       "    </tr>\n",
       "    <tr>\n",
       "      <th>4</th>\n",
       "      <td>4</td>\n",
       "      <td>Charmander</td>\n",
       "      <td>Fire</td>\n",
       "      <td>NaN</td>\n",
       "      <td>309</td>\n",
       "      <td>39</td>\n",
       "      <td>52</td>\n",
       "      <td>43</td>\n",
       "      <td>60</td>\n",
       "      <td>50</td>\n",
       "      <td>65</td>\n",
       "      <td>1</td>\n",
       "      <td>False</td>\n",
       "      <td>False</td>\n",
       "    </tr>\n",
       "  </tbody>\n",
       "</table>\n",
       "</div>"
      ],
      "text/plain": [
       "   #                   Name Type 1  Type 2  Total  HP  Attack  Defense  \\\n",
       "0  1              Bulbasaur  Grass  Poison    318  45      49       49   \n",
       "1  2                Ivysaur  Grass  Poison    405  60      62       63   \n",
       "2  3               Venusaur  Grass  Poison    525  80      82       83   \n",
       "3  3  VenusaurMega Venusaur  Grass  Poison    625  80     100      123   \n",
       "4  4             Charmander   Fire     NaN    309  39      52       43   \n",
       "\n",
       "   Sp. Atk  Sp. Def  Speed  Generation  Legendary  Special Form  \n",
       "0       65       65     45           1      False         False  \n",
       "1       80       80     60           1      False         False  \n",
       "2      100      100     80           1      False         False  \n",
       "3      122      120     80           1      False          True  \n",
       "4       60       50     65           1      False         False  "
      ]
     },
     "execution_count": 7,
     "metadata": {},
     "output_type": "execute_result"
    }
   ],
   "source": [
    "#Screen checking.\n",
    "pokemon_all_gen.head()"
   ]
  },
  {
   "cell_type": "markdown",
   "metadata": {},
   "source": [
    "# Building tree classifier model"
   ]
  },
  {
   "cell_type": "code",
   "execution_count": 8,
   "metadata": {},
   "outputs": [],
   "source": [
    "#We will try to predict if a Pokémon is a legendary or not. Legendary Pokémons tend to have high total stats. However, Pokémon \n",
    "#in \"Special Forms\" (\"Mega\", \"Primal\", \"Ultra\") also tend to have higher stats than average. To further complicate our problem,\n",
    "#Legendary Pokémons can also have \"Special Forms\", providing them with even higher stats. With that said, we will choose \n",
    "#\"Legendary\" as our target, and \"Total\" (total stats) and \"Special Form\" as features to predict target.\n",
    "features = ['Total', 'Special Form']\n",
    "X = pokemon_all_gen[features]\n",
    "target = 'Legendary'\n",
    "y = pokemon_all_gen[target]"
   ]
  },
  {
   "cell_type": "code",
   "execution_count": 9,
   "metadata": {},
   "outputs": [
    {
     "data": {
      "text/plain": [
       "[Text(159.42857142857142, 489.24, 'Total <= 579.5\\ngini = 0.17\\nsamples = 800\\nvalue = [725, 75]\\nclass = Not Leg.'),\n",
       " Text(79.71428571428571, 380.52000000000004, 'gini = 0.003\\nsamples = 687\\nvalue = [686, 1]\\nclass = Not Leg.'),\n",
       " Text(239.1428571428571, 380.52000000000004, 'Special Form <= 0.5\\ngini = 0.452\\nsamples = 113\\nvalue = [39, 74]\\nclass = Legendary'),\n",
       " Text(159.42857142857142, 271.8, 'gini = 0.193\\nsamples = 74\\nvalue = [8, 66]\\nclass = Legendary'),\n",
       " Text(318.85714285714283, 271.8, 'Total <= 670.0\\ngini = 0.326\\nsamples = 39\\nvalue = [31, 8]\\nclass = Not Leg.'),\n",
       " Text(239.1428571428571, 163.08000000000004, 'gini = 0.0\\nsamples = 27\\nvalue = [27, 0]\\nclass = Not Leg.'),\n",
       " Text(398.57142857142856, 163.08000000000004, 'Total <= 735.0\\ngini = 0.444\\nsamples = 12\\nvalue = [4, 8]\\nclass = Legendary'),\n",
       " Text(318.85714285714283, 54.360000000000014, 'gini = 0.49\\nsamples = 7\\nvalue = [4, 3]\\nclass = Not Leg.'),\n",
       " Text(478.2857142857142, 54.360000000000014, 'gini = 0.0\\nsamples = 5\\nvalue = [0, 5]\\nclass = Legendary')]"
      ]
     },
     "execution_count": 9,
     "metadata": {},
     "output_type": "execute_result"
    },
    {
     "data": {
      "image/png": "[encoded data removed]",
      "text/plain": [
       "<Figure size 720x720 with 1 Axes>"
      ]
     },
     "metadata": {
      "needs_background": "light"
     },
     "output_type": "display_data"
    }
   ],
   "source": [
    "#Building tree model with indeterminate number of splits. We will use hyperparameter searching.\n",
    "model = GSCV(DTC(min_impurity_decrease = 1e-3), {'max_depth': range(1, 11, 1)}, cv = 5)\n",
    "#In this toy example we won't split data into train and test, as the number of Pokémon is 'midly' limited.\n",
    "model.fit(X, y)\n",
    "#Let's predict 'Legendary' labels with trained tree.\n",
    "y_pred = model.predict(X)\n",
    "#Obtaining ordered labels as a set comprehension and later a list comprehension. We will later transform booleans into text.\n",
    "ordered_classes = model.classes_\n",
    "ordered_labels = [*map(lambda x: \"Legendary\" if x else \"Not Leg.\", ordered_classes)]\n",
    "#By last, let's visually plot our best trained tree.\n",
    "plt.figure(figsize = (10, 10))\n",
    "plot_tree(model.best_estimator_, feature_names = features, class_names = ordered_labels, filled = True)"
   ]
  },
  {
   "cell_type": "markdown",
   "metadata": {},
   "source": [
    "# Results analysis"
   ]
  },
  {
   "cell_type": "code",
   "execution_count": 10,
   "metadata": {},
   "outputs": [
    {
     "data": {
      "image/png": "[encoded data removed]",
      "text/plain": [
       "<Figure size 432x288 with 2 Axes>"
      ]
     },
     "metadata": {
      "needs_background": "light"
     },
     "output_type": "display_data"
    }
   ],
   "source": [
    "#Obtaining confusion matrix with labels ordered as previously said.\n",
    "cm = confusion_matrix(y, y_pred, labels = ordered_classes)\n",
    "#Printing obtained confusion matrix with labels ordered as previously said.\n",
    "plot_cm(cm, ordered_labels)"
   ]
  },
  {
   "cell_type": "code",
   "execution_count": 11,
   "metadata": {
    "scrolled": true
   },
   "outputs": [
    {
     "data": {
      "text/html": [
       "<div>\n",
       "<style scoped>\n",
       "    .dataframe tbody tr th:only-of-type {\n",
       "        vertical-align: middle;\n",
       "    }\n",
       "\n",
       "    .dataframe tbody tr th {\n",
       "        vertical-align: top;\n",
       "    }\n",
       "\n",
       "    .dataframe thead th {\n",
       "        text-align: right;\n",
       "    }\n",
       "</style>\n",
       "<table border=\"1\" class=\"dataframe\">\n",
       "  <thead>\n",
       "    <tr style=\"text-align: right;\">\n",
       "      <th></th>\n",
       "      <th>Name</th>\n",
       "      <th>Total</th>\n",
       "      <th>Special Form</th>\n",
       "      <th>Legendary</th>\n",
       "    </tr>\n",
       "  </thead>\n",
       "  <tbody>\n",
       "    <tr>\n",
       "      <th>161</th>\n",
       "      <td>Dragonite</td>\n",
       "      <td>600</td>\n",
       "      <td>False</td>\n",
       "      <td>False</td>\n",
       "    </tr>\n",
       "    <tr>\n",
       "      <th>267</th>\n",
       "      <td>Tyranitar</td>\n",
       "      <td>600</td>\n",
       "      <td>False</td>\n",
       "      <td>False</td>\n",
       "    </tr>\n",
       "    <tr>\n",
       "      <th>313</th>\n",
       "      <td>Slaking</td>\n",
       "      <td>670</td>\n",
       "      <td>False</td>\n",
       "      <td>False</td>\n",
       "    </tr>\n",
       "    <tr>\n",
       "      <th>408</th>\n",
       "      <td>Salamence</td>\n",
       "      <td>600</td>\n",
       "      <td>False</td>\n",
       "      <td>False</td>\n",
       "    </tr>\n",
       "    <tr>\n",
       "      <th>412</th>\n",
       "      <td>Metagross</td>\n",
       "      <td>600</td>\n",
       "      <td>False</td>\n",
       "      <td>False</td>\n",
       "    </tr>\n",
       "    <tr>\n",
       "      <th>418</th>\n",
       "      <td>LatiasMega Latias</td>\n",
       "      <td>700</td>\n",
       "      <td>True</td>\n",
       "      <td>True</td>\n",
       "    </tr>\n",
       "    <tr>\n",
       "      <th>420</th>\n",
       "      <td>LatiosMega Latios</td>\n",
       "      <td>700</td>\n",
       "      <td>True</td>\n",
       "      <td>True</td>\n",
       "    </tr>\n",
       "    <tr>\n",
       "      <th>493</th>\n",
       "      <td>Garchomp</td>\n",
       "      <td>600</td>\n",
       "      <td>False</td>\n",
       "      <td>False</td>\n",
       "    </tr>\n",
       "    <tr>\n",
       "      <th>547</th>\n",
       "      <td>Phione</td>\n",
       "      <td>480</td>\n",
       "      <td>False</td>\n",
       "      <td>True</td>\n",
       "    </tr>\n",
       "    <tr>\n",
       "      <th>696</th>\n",
       "      <td>Hydreigon</td>\n",
       "      <td>600</td>\n",
       "      <td>False</td>\n",
       "      <td>False</td>\n",
       "    </tr>\n",
       "    <tr>\n",
       "      <th>776</th>\n",
       "      <td>Goodra</td>\n",
       "      <td>600</td>\n",
       "      <td>False</td>\n",
       "      <td>False</td>\n",
       "    </tr>\n",
       "    <tr>\n",
       "      <th>796</th>\n",
       "      <td>DiancieMega Diancie</td>\n",
       "      <td>700</td>\n",
       "      <td>True</td>\n",
       "      <td>True</td>\n",
       "    </tr>\n",
       "  </tbody>\n",
       "</table>\n",
       "</div>"
      ],
      "text/plain": [
       "                    Name  Total  Special Form  Legendary\n",
       "161            Dragonite    600         False      False\n",
       "267            Tyranitar    600         False      False\n",
       "313              Slaking    670         False      False\n",
       "408            Salamence    600         False      False\n",
       "412            Metagross    600         False      False\n",
       "418    LatiasMega Latias    700          True       True\n",
       "420    LatiosMega Latios    700          True       True\n",
       "493             Garchomp    600         False      False\n",
       "547               Phione    480         False       True\n",
       "696            Hydreigon    600         False      False\n",
       "776               Goodra    600         False      False\n",
       "796  DiancieMega Diancie    700          True       True"
      ]
     },
     "execution_count": 11,
     "metadata": {},
     "output_type": "execute_result"
    }
   ],
   "source": [
    "#Let's analyze missclassified Pokémons.\n",
    "pokemon_all_gen.loc[y != y_pred, ['Name', 'Total', 'Special Form', 'Legendary']]"
   ]
  },
  {
   "cell_type": "markdown",
   "metadata": {},
   "source": [
    "We got three main groups of missclassified Pokémon here:\n",
    "+ Non-legendary Pokémon with high stats and no special form which are incorrectly predicted as legendary ones."
   ]
  },
  {
   "cell_type": "code",
   "execution_count": 12,
   "metadata": {
    "scrolled": true
   },
   "outputs": [
    {
     "name": "stdout",
     "output_type": "stream",
     "text": [
      "Avg. Total Stats for Non-Legendary No Special Form Pokémon: 403.53\n"
     ]
    }
   ],
   "source": [
    "print('Avg. Total Stats for Non-Legendary No Special Form Pokémon: ' + str(round(pokemon_all_gen.loc[(~pokemon_all_gen['Special Form']) & (~pokemon_all_gen['Legendary']),'Total'].mean(), 2)))"
   ]
  },
  {
   "cell_type": "markdown",
   "metadata": {},
   "source": [
    "+ Legendary Pokémon with relatively low stats for being special form."
   ]
  },
  {
   "cell_type": "code",
   "execution_count": 13,
   "metadata": {},
   "outputs": [
    {
     "name": "stdout",
     "output_type": "stream",
     "text": [
      "Avg. Total Stats for Legendary Special Form Pokémon: 747.5\n"
     ]
    }
   ],
   "source": [
    "print('Avg. Total Stats for Legendary Special Form Pokémon: ' + str(round(pokemon_all_gen.loc[(pokemon_all_gen['Special Form']) & (pokemon_all_gen['Legendary']),'Total'].mean(), 2)))"
   ]
  },
  {
   "cell_type": "markdown",
   "metadata": {},
   "source": [
    "+ Phione, a legendary Pokémon with low stats even for being no special form."
   ]
  },
  {
   "cell_type": "code",
   "execution_count": 14,
   "metadata": {},
   "outputs": [
    {
     "name": "stdout",
     "output_type": "stream",
     "text": [
      "Avg. Total Stats for Legendary No Special Form Pokémon: 616.27\n"
     ]
    }
   ],
   "source": [
    "print('Avg. Total Stats for Legendary No Special Form Pokémon: ' + str(round(pokemon_all_gen.loc[(~pokemon_all_gen['Special Form']) & (pokemon_all_gen['Legendary']),'Total'].mean(), 2)))"
   ]
  },
  {
   "cell_type": "markdown",
   "metadata": {},
   "source": [
    "Last two groups correspond to known exceptions that don't follow any general rule. There just happen to be some weaker legendary Pokémon like Latios, Latios, Diance (in this case in their MegaEvolution forms) and Phione who don't reach such a high level of stats, so little could be done with these 4 missclassified examples.\n",
    "\n",
    "On the other hand, names as Dragonite, Tyranitar or Salamence reminds us of some kind of Pokémon, with only 1 or 2 of them existing by generation, called \"Pseudo-Legendaries\", also called \"Titans\". For clarity reasons, we will use the later term when refering to them to avoid confusing them with real \"Legendaries\". A \"Titan\" is a non-legendary Pokémon with higher stats than average, reaching total stats close to \"Legendary\" ones. There are few \"Titans\" included in each generation, so that list will be easy to implement as a new feature in our database. Therefore, we will be able to have some flag for this \"Titan\" Pokémon which may avoid missclassifing them as \"Legendary\"."
   ]
  },
  {
   "cell_type": "markdown",
   "metadata": {},
   "source": [
    "# Revisiting variable featuring"
   ]
  },
  {
   "cell_type": "code",
   "execution_count": 15,
   "metadata": {},
   "outputs": [],
   "source": [
    "#Defining the list of names of \"Titan\" Pokémon from every generation. Remember that our database reaches to 6th generation,\n",
    "#so many of the Pokémons included in this list may not appear in our database. Anyways, we will leave code like this in order\n",
    "#to efectivelly response if the database is modified and new generations are added (as we did with \"Special Form\" featuring).\n",
    "titans = ['Dragonite', 'Tyranitar', 'Salamence', 'Metagross', 'Garchomp', 'Hydreigon', 'Goodra', 'Kommo-o', 'Dragapult']\n",
    "#Let's add this as a new feature in similar fashion as we did before.\n",
    "pokemon_all_gen['Titan'] = pokemon_all_gen['Name'].apply(lambda x: x in titans)"
   ]
  },
  {
   "cell_type": "code",
   "execution_count": 16,
   "metadata": {},
   "outputs": [
    {
     "data": {
      "text/html": [
       "<div>\n",
       "<style scoped>\n",
       "    .dataframe tbody tr th:only-of-type {\n",
       "        vertical-align: middle;\n",
       "    }\n",
       "\n",
       "    .dataframe tbody tr th {\n",
       "        vertical-align: top;\n",
       "    }\n",
       "\n",
       "    .dataframe thead th {\n",
       "        text-align: right;\n",
       "    }\n",
       "</style>\n",
       "<table border=\"1\" class=\"dataframe\">\n",
       "  <thead>\n",
       "    <tr style=\"text-align: right;\">\n",
       "      <th></th>\n",
       "      <th>#</th>\n",
       "      <th>Name</th>\n",
       "      <th>Type 1</th>\n",
       "      <th>Type 2</th>\n",
       "      <th>Total</th>\n",
       "      <th>HP</th>\n",
       "      <th>Attack</th>\n",
       "      <th>Defense</th>\n",
       "      <th>Sp. Atk</th>\n",
       "      <th>Sp. Def</th>\n",
       "      <th>Speed</th>\n",
       "      <th>Generation</th>\n",
       "      <th>Legendary</th>\n",
       "      <th>Special Form</th>\n",
       "      <th>Titan</th>\n",
       "    </tr>\n",
       "  </thead>\n",
       "  <tbody>\n",
       "    <tr>\n",
       "      <th>161</th>\n",
       "      <td>149</td>\n",
       "      <td>Dragonite</td>\n",
       "      <td>Dragon</td>\n",
       "      <td>Flying</td>\n",
       "      <td>600</td>\n",
       "      <td>91</td>\n",
       "      <td>134</td>\n",
       "      <td>95</td>\n",
       "      <td>100</td>\n",
       "      <td>100</td>\n",
       "      <td>80</td>\n",
       "      <td>1</td>\n",
       "      <td>False</td>\n",
       "      <td>False</td>\n",
       "      <td>True</td>\n",
       "    </tr>\n",
       "    <tr>\n",
       "      <th>267</th>\n",
       "      <td>248</td>\n",
       "      <td>Tyranitar</td>\n",
       "      <td>Rock</td>\n",
       "      <td>Dark</td>\n",
       "      <td>600</td>\n",
       "      <td>100</td>\n",
       "      <td>134</td>\n",
       "      <td>110</td>\n",
       "      <td>95</td>\n",
       "      <td>100</td>\n",
       "      <td>61</td>\n",
       "      <td>2</td>\n",
       "      <td>False</td>\n",
       "      <td>False</td>\n",
       "      <td>True</td>\n",
       "    </tr>\n",
       "    <tr>\n",
       "      <th>408</th>\n",
       "      <td>373</td>\n",
       "      <td>Salamence</td>\n",
       "      <td>Dragon</td>\n",
       "      <td>Flying</td>\n",
       "      <td>600</td>\n",
       "      <td>95</td>\n",
       "      <td>135</td>\n",
       "      <td>80</td>\n",
       "      <td>110</td>\n",
       "      <td>80</td>\n",
       "      <td>100</td>\n",
       "      <td>3</td>\n",
       "      <td>False</td>\n",
       "      <td>False</td>\n",
       "      <td>True</td>\n",
       "    </tr>\n",
       "    <tr>\n",
       "      <th>412</th>\n",
       "      <td>376</td>\n",
       "      <td>Metagross</td>\n",
       "      <td>Steel</td>\n",
       "      <td>Psychic</td>\n",
       "      <td>600</td>\n",
       "      <td>80</td>\n",
       "      <td>135</td>\n",
       "      <td>130</td>\n",
       "      <td>95</td>\n",
       "      <td>90</td>\n",
       "      <td>70</td>\n",
       "      <td>3</td>\n",
       "      <td>False</td>\n",
       "      <td>False</td>\n",
       "      <td>True</td>\n",
       "    </tr>\n",
       "    <tr>\n",
       "      <th>493</th>\n",
       "      <td>445</td>\n",
       "      <td>Garchomp</td>\n",
       "      <td>Dragon</td>\n",
       "      <td>Ground</td>\n",
       "      <td>600</td>\n",
       "      <td>108</td>\n",
       "      <td>130</td>\n",
       "      <td>95</td>\n",
       "      <td>80</td>\n",
       "      <td>85</td>\n",
       "      <td>102</td>\n",
       "      <td>4</td>\n",
       "      <td>False</td>\n",
       "      <td>False</td>\n",
       "      <td>True</td>\n",
       "    </tr>\n",
       "  </tbody>\n",
       "</table>\n",
       "</div>"
      ],
      "text/plain": [
       "       #       Name  Type 1   Type 2  Total   HP  Attack  Defense  Sp. Atk  \\\n",
       "161  149  Dragonite  Dragon   Flying    600   91     134       95      100   \n",
       "267  248  Tyranitar    Rock     Dark    600  100     134      110       95   \n",
       "408  373  Salamence  Dragon   Flying    600   95     135       80      110   \n",
       "412  376  Metagross   Steel  Psychic    600   80     135      130       95   \n",
       "493  445   Garchomp  Dragon   Ground    600  108     130       95       80   \n",
       "\n",
       "     Sp. Def  Speed  Generation  Legendary  Special Form  Titan  \n",
       "161      100     80           1      False         False   True  \n",
       "267      100     61           2      False         False   True  \n",
       "408       80    100           3      False         False   True  \n",
       "412       90     70           3      False         False   True  \n",
       "493       85    102           4      False         False   True  "
      ]
     },
     "execution_count": 16,
     "metadata": {},
     "output_type": "execute_result"
    }
   ],
   "source": [
    "#Screen checking.\n",
    "pokemon_all_gen[pokemon_all_gen['Name'].isin(titans)].head()"
   ]
  },
  {
   "cell_type": "markdown",
   "metadata": {},
   "source": [
    "# Rebuilding tree classifier model"
   ]
  },
  {
   "cell_type": "code",
   "execution_count": 17,
   "metadata": {},
   "outputs": [],
   "source": [
    "#We will add now the 'Titan' flag to our model.\n",
    "features = ['Total', 'Special Form', 'Titan']\n",
    "X = pokemon_all_gen[features]\n",
    "target = 'Legendary'\n",
    "y = pokemon_all_gen[target]"
   ]
  },
  {
   "cell_type": "code",
   "execution_count": 18,
   "metadata": {},
   "outputs": [
    {
     "data": {
      "text/plain": [
       "[Text(186.0, 489.24, 'Total <= 579.5\\ngini = 0.17\\nsamples = 800\\nvalue = [725, 75]\\nclass = Not Leg.'),\n",
       " Text(124.0, 380.52000000000004, 'gini = 0.003\\nsamples = 687\\nvalue = [686, 1]\\nclass = Not Leg.'),\n",
       " Text(248.0, 380.52000000000004, 'Special Form <= 0.5\\ngini = 0.452\\nsamples = 113\\nvalue = [39, 74]\\nclass = Legendary'),\n",
       " Text(124.0, 271.8, 'Titan <= 0.5\\ngini = 0.193\\nsamples = 74\\nvalue = [8, 66]\\nclass = Legendary'),\n",
       " Text(62.0, 163.08000000000004, 'gini = 0.029\\nsamples = 67\\nvalue = [1, 66]\\nclass = Legendary'),\n",
       " Text(186.0, 163.08000000000004, 'gini = 0.0\\nsamples = 7\\nvalue = [7, 0]\\nclass = Not Leg.'),\n",
       " Text(372.0, 271.8, 'Total <= 670.0\\ngini = 0.326\\nsamples = 39\\nvalue = [31, 8]\\nclass = Not Leg.'),\n",
       " Text(310.0, 163.08000000000004, 'gini = 0.0\\nsamples = 27\\nvalue = [27, 0]\\nclass = Not Leg.'),\n",
       " Text(434.0, 163.08000000000004, 'Total <= 735.0\\ngini = 0.444\\nsamples = 12\\nvalue = [4, 8]\\nclass = Legendary'),\n",
       " Text(372.0, 54.360000000000014, 'gini = 0.49\\nsamples = 7\\nvalue = [4, 3]\\nclass = Not Leg.'),\n",
       " Text(496.0, 54.360000000000014, 'gini = 0.0\\nsamples = 5\\nvalue = [0, 5]\\nclass = Legendary')]"
      ]
     },
     "execution_count": 18,
     "metadata": {},
     "output_type": "execute_result"
    },
    {
     "data": {
      "image/png": "[encoded data removed]",
      "text/plain": [
       "<Figure size 720x720 with 1 Axes>"
      ]
     },
     "metadata": {
      "needs_background": "light"
     },
     "output_type": "display_data"
    }
   ],
   "source": [
    "#Building tree model with indeterminate number of splits. We will use hyperparameter searching.\n",
    "model = GSCV(DTC(min_impurity_decrease = 1e-3), {'max_depth': range(1, 11, 1)}, cv = 5)\n",
    "#In this toy example we won't split data into train and test, as the number of Pokémon is 'midly' limited.\n",
    "model.fit(X, y)\n",
    "#Let's predict 'Legendary' labels with trained tree.\n",
    "y_pred = model.predict(X)\n",
    "#Obtaining ordered labels as a set comprehension and later a list comprehension. We will later transform booleans into text.\n",
    "ordered_classes = model.classes_\n",
    "ordered_labels = [*map(lambda x: \"Legendary\" if x else \"Not Leg.\", ordered_classes)]\n",
    "#By last, let's visually plot our best trained tree.\n",
    "plt.figure(figsize = (10, 10))\n",
    "plot_tree(model.best_estimator_, feature_names = features, class_names = ordered_labels, filled = True)"
   ]
  },
  {
   "cell_type": "markdown",
   "metadata": {},
   "source": [
    "# Revisiting results analysis"
   ]
  },
  {
   "cell_type": "code",
   "execution_count": 19,
   "metadata": {},
   "outputs": [
    {
     "data": {
      "image/png": "[encoded data removed]",
      "text/plain": [
       "<Figure size 432x288 with 2 Axes>"
      ]
     },
     "metadata": {
      "needs_background": "light"
     },
     "output_type": "display_data"
    }
   ],
   "source": [
    "#Obtaining confusion matrix with labels ordered as previously said.\n",
    "cm = confusion_matrix(y, y_pred, labels = ordered_classes)\n",
    "#Printing obtained confusion matrix with labels ordered as previously said.\n",
    "plot_cm(cm, ordered_labels)"
   ]
  },
  {
   "cell_type": "code",
   "execution_count": 20,
   "metadata": {},
   "outputs": [
    {
     "data": {
      "text/html": [
       "<div>\n",
       "<style scoped>\n",
       "    .dataframe tbody tr th:only-of-type {\n",
       "        vertical-align: middle;\n",
       "    }\n",
       "\n",
       "    .dataframe tbody tr th {\n",
       "        vertical-align: top;\n",
       "    }\n",
       "\n",
       "    .dataframe thead th {\n",
       "        text-align: right;\n",
       "    }\n",
       "</style>\n",
       "<table border=\"1\" class=\"dataframe\">\n",
       "  <thead>\n",
       "    <tr style=\"text-align: right;\">\n",
       "      <th></th>\n",
       "      <th>Name</th>\n",
       "      <th>Total</th>\n",
       "      <th>Special Form</th>\n",
       "      <th>Legendary</th>\n",
       "    </tr>\n",
       "  </thead>\n",
       "  <tbody>\n",
       "    <tr>\n",
       "      <th>313</th>\n",
       "      <td>Slaking</td>\n",
       "      <td>670</td>\n",
       "      <td>False</td>\n",
       "      <td>False</td>\n",
       "    </tr>\n",
       "    <tr>\n",
       "      <th>418</th>\n",
       "      <td>LatiasMega Latias</td>\n",
       "      <td>700</td>\n",
       "      <td>True</td>\n",
       "      <td>True</td>\n",
       "    </tr>\n",
       "    <tr>\n",
       "      <th>420</th>\n",
       "      <td>LatiosMega Latios</td>\n",
       "      <td>700</td>\n",
       "      <td>True</td>\n",
       "      <td>True</td>\n",
       "    </tr>\n",
       "    <tr>\n",
       "      <th>547</th>\n",
       "      <td>Phione</td>\n",
       "      <td>480</td>\n",
       "      <td>False</td>\n",
       "      <td>True</td>\n",
       "    </tr>\n",
       "    <tr>\n",
       "      <th>796</th>\n",
       "      <td>DiancieMega Diancie</td>\n",
       "      <td>700</td>\n",
       "      <td>True</td>\n",
       "      <td>True</td>\n",
       "    </tr>\n",
       "  </tbody>\n",
       "</table>\n",
       "</div>"
      ],
      "text/plain": [
       "                    Name  Total  Special Form  Legendary\n",
       "313              Slaking    670         False      False\n",
       "418    LatiasMega Latias    700          True       True\n",
       "420    LatiosMega Latios    700          True       True\n",
       "547               Phione    480         False       True\n",
       "796  DiancieMega Diancie    700          True       True"
      ]
     },
     "execution_count": 20,
     "metadata": {},
     "output_type": "execute_result"
    }
   ],
   "source": [
    "#Let's analyze missclassified Pokémons.\n",
    "pokemon_all_gen.loc[y != y_pred, ['Name', 'Total', 'Special Form', 'Legendary']]"
   ]
  },
  {
   "cell_type": "markdown",
   "metadata": {},
   "source": [
    "We can still observate the beforementioned 4 examples of 'weak' legendaries missclassified as non-legendaries, but as previously said this will not disturb us. Most of the rest of non-legendary Pokémon are correctly classified, which suggest an improve of the model with the addition of this new variable.\n",
    "\n",
    "The only exception we can find is Slaking, a weird example on its own. We will not go much further here, just noting that its extremely high stats for a non-Titan and non-Legendary are compensated by some other in-combat feature of Slaking (specifically its ability 'Truant'). This explains why we are not able to correctly classify it inside our model.\n",
    "\n",
    "# Conclusions\n",
    "\n",
    "We observe the subtle difference between both trees. The general structure is really similar between them both, with the exception of a previous leaf, now node. Initially, we classified al 74 samples as legendary, being correct for 66 and incorrect for 8. Now, with the addition of the feature 'Titan', we can effectively split that node as two leafs, which improves the Gini impurity measure used for the tree. 7 of those 8 initially missclassified as 'Legendary' examples are now correctly classified as 'Non-Legendary'."
   ]
  }
 ],
 "metadata": {
  "kernelspec": {
   "display_name": "Python 3",
   "language": "python",
   "name": "python3"
  },
  "language_info": {
   "codemirror_mode": {
    "name": "ipython",
    "version": 3
   },
   "file_extension": ".py",
   "mimetype": "text/x-python",
   "name": "python",
   "nbconvert_exporter": "python",
   "pygments_lexer": "ipython3",
   "version": "3.7.4"
  }
 },
 "nbformat": 4,
 "nbformat_minor": 4
}
